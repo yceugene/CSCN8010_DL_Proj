{
 "cells": [
  {
   "cell_type": "code",
   "execution_count": null,
   "id": "963f50d9",
   "metadata": {},
   "outputs": [
    {
     "name": "stdout",
     "output_type": "stream",
     "text": [
      "Using device: cuda\n"
     ]
    }
   ],
   "source": [
    "import warnings\n",
    "import logging\n",
    "import torch\n",
    "import numpy as np\n",
    "import random\n",
    "\n",
    "# Set random seed\n",
    "seed = 42\n",
    "torch.manual_seed(seed)\n",
    "torch.cuda.manual_seed(seed)  # If using GPU\n",
    "torch.cuda.manual_seed_all(seed)  # If using multiple GPUs\n",
    "np.random.seed(seed)\n",
    "random.seed(seed)\n",
    "\n",
    "# Ensure deterministic behavior (reduce randomness)\n",
    "torch.backends.cudnn.deterministic = True\n",
    "torch.backends.cudnn.benchmark = False\n",
    "\n",
    "# Suppress unnecessary warnings\n",
    "warnings.filterwarnings(\"ignore\")\n",
    "\n",
    "# Set logging level to only display ERROR level logs\n",
    "logging.getLogger().setLevel(logging.ERROR)\n",
    "\n",
    "# Check if GPU is available\n",
    "device = torch.device(\"cuda\" if torch.cuda.is_available() else \"cpu\")\n",
    "print(f\"Using device: {device}\")\n",
    "\n",
    "# Clear GPU memory (if previously occupied by other programs)\n",
    "torch.cuda.empty_cache()\n",
    "\n",
    "# Set PyTorch memory allocation strategy\n",
    "torch.cuda.set_per_process_memory_fraction(0.8, device=0)  # Limit to 80% of GPU memory\n"
   ]
  }
 ],
 "metadata": {
  "kernelspec": {
   "display_name": "venv_wsl",
   "language": "python",
   "name": "python3"
  },
  "language_info": {
   "codemirror_mode": {
    "name": "ipython",
    "version": 3
   },
   "file_extension": ".py",
   "mimetype": "text/x-python",
   "name": "python",
   "nbconvert_exporter": "python",
   "pygments_lexer": "ipython3",
   "version": "3.12.9"
  }
 },
 "nbformat": 4,
 "nbformat_minor": 5
}
