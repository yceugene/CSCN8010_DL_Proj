{
 "cells": [
  {
   "cell_type": "code",
   "execution_count": 1,
   "id": "963f50d9",
   "metadata": {},
   "outputs": [
    {
     "name": "stdout",
     "output_type": "stream",
     "text": [
      "Using device: cuda\n"
     ]
    }
   ],
   "source": [
    "import warnings\n",
    "import logging\n",
    "import torch\n",
    "import numpy as np\n",
    "import random\n",
    "\n",
    "# 設置隨機種子\n",
    "seed = 42\n",
    "torch.manual_seed(seed)\n",
    "torch.cuda.manual_seed(seed)  # 如果使用 GPU\n",
    "torch.cuda.manual_seed_all(seed)  # 如果使用多 GPU\n",
    "np.random.seed(seed)\n",
    "random.seed(seed)\n",
    "\n",
    "# 確保確定性行為（減少隨機性）\n",
    "torch.backends.cudnn.deterministic = True\n",
    "torch.backends.cudnn.benchmark = False\n",
    "\n",
    "\n",
    "# 抑制不必要的警告\n",
    "warnings.filterwarnings(\"ignore\")\n",
    "\n",
    "# 設置 logging 級別，只顯示 ERROR 級別以上的日誌\n",
    "logging.getLogger().setLevel(logging.ERROR)\n",
    "\n",
    "# 檢查 GPU 是否可用\n",
    "device = torch.device(\"cuda\" if torch.cuda.is_available() else \"cpu\")\n",
    "print(f\"Using device: {device}\")\n",
    "\n",
    "# 可選：清理 GPU 記憶體（如果之前有其他程式佔用）\n",
    "torch.cuda.empty_cache()\n",
    "\n",
    "# 可選：設置 PyTorch 的記憶體分配策略\n",
    "torch.cuda.set_per_process_memory_fraction(0.8, device=0)  # 限制使用 80% 的 GPU 記憶體"
   ]
  }
 ],
 "metadata": {
  "kernelspec": {
   "display_name": "venv_wsl",
   "language": "python",
   "name": "python3"
  },
  "language_info": {
   "codemirror_mode": {
    "name": "ipython",
    "version": 3
   },
   "file_extension": ".py",
   "mimetype": "text/x-python",
   "name": "python",
   "nbconvert_exporter": "python",
   "pygments_lexer": "ipython3",
   "version": "3.12.9"
  }
 },
 "nbformat": 4,
 "nbformat_minor": 5
}
